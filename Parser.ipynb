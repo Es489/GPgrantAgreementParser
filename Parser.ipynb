{
 "cells": [
  {
   "cell_type": "code",
   "execution_count": null,
   "metadata": {
    "collapsed": true
   },
   "outputs": [],
   "source": [
    "import pandas as pd\n",
    "\n",
    "f1 = open(\"main_info.txt\", \"a\")\n",
    "f2 = open(\"support.txt\", \"a\")\n",
    "\n",
    "tilda1 = pd.read_csv(\"tilda1.csv\")\n",
    "tilda2 = pd.read_csv(\"tilda2.csv\")\n",
    "\n",
    "for index, row in tilda1.iterrows():\n",
    "    company = row[\"Org_Name\"]\n",
    "    t2_row = tilda2.iloc[index]\n",
    "\n",
    "    np = int(row[\"of_placements\"])\n",
    "    roles = row[\"Job_Titiles_Start_Dates\"]\n",
    "    npeople = t2_row[\"How_many_employed\"]\n",
    "    website = row[\"Website\"]\n",
    "    description = row[\"Business_description\"]\n",
    "    wfchanges = t2_row[\"Workforce_changes\"]\n",
    "    funding = t2_row[\"KS_funding_alternative\"]\n",
    "    trade_unions = t2_row[\"Trade_Unions\"]\n",
    "    number = index+1\n",
    "    similar_roles = t2_row[\"Recruitment_changes_past_6_months\"]\n",
    "    support = row[\"Employability_Support\"]\n",
    "    template = f\"\"\"\n",
    "    {number}) {company} - {np} positions;\n",
    "\n",
    "    {roles}\n",
    "\n",
    "    {company} has {npeople}, thus it is sufficient to manage {np} positions;\n",
    "\n",
    "    Website: {website}\n",
    "\n",
    "    Short description: {description}\n",
    "\n",
    "    The changes to the workforce in the last 6 months: {wfchanges}\n",
    "    What funding source would be used if Kickstart Scheme was unavailable: It would not be possible to fund these  roles without Kickstart, unless {funding};\n",
    "    What recruitment was completed/started/paused in the last 6 months; how similar are/were the vacancies to the job placements: {similar_roles};\n",
    "    Have you engaged any relevant trade unions; if so, what advice they’ve given you: {trade_unions}.\n",
    "\n",
    "    \"\"\"\n",
    "    f1.write(template)\n",
    "    f2.write(f\"{company}: {support}\\nAdditional employability support will be provided by Over-Deliver Ltd, a career consultancy firm.\\n\\n\\n\")\n",
    "f1.close()\n",
    "f2.close()\n"
   ]
  }
 ],
 "metadata": {
  "kernelspec": {
   "display_name": "Python 3",
   "language": "python",
   "name": "python3"
  },
  "language_info": {
   "codemirror_mode": {
    "name": "ipython",
    "version": 2
   },
   "file_extension": ".py",
   "mimetype": "text/x-python",
   "name": "python",
   "nbconvert_exporter": "python",
   "pygments_lexer": "ipython2",
   "version": "2.7.6"
  }
 },
 "nbformat": 4,
 "nbformat_minor": 0
}