{
 "cells": [
  {
   "cell_type": "code",
   "execution_count": null,
   "outputs": [],
   "source": [
    "import pandas as pd"
   ],
   "metadata": {
    "collapsed": false,
    "pycharm": {
     "name": "#%%\n"
    }
   }
  },
  {
   "cell_type": "markdown",
   "source": [
    "You need to change the names of uploaded files for tilda 1 and 2 (files should be in csv format).\n",
    "tilda1 = pd.read_csv(\"tilda1.csv\") #tilda 1 file -> change filename \"tilda1.csv\" to the name of you file e.g example.csv\n",
    "tilda2 = pd.read_csv(\"tilda2.csv\") #tilda 2 file -> change filename \"tilda2.csv\" to the name of you file e.g example2.csv"
   ],
   "metadata": {
    "collapsed": false
   }
  },
  {
   "cell_type": "code",
   "execution_count": null,
   "outputs": [],
   "source": [
    "tilda1 = pd.read_csv(\"tilda1.csv\") #tilda 1 file\n",
    "tilda2 = pd.read_csv(\"tilda2.csv\") #tilda 2 file"
   ],
   "metadata": {
    "collapsed": false,
    "pycharm": {
     "name": "#%%\n"
    }
   }
  },
  {
   "cell_type": "markdown",
   "source": [
    "Now we creating the txt files where we will record the parsed data"
   ],
   "metadata": {
    "collapsed": false
   }
  },
  {
   "cell_type": "code",
   "execution_count": null,
   "outputs": [],
   "source": [
    "f1 = open(\"main_info.txt\", \"w\")\n",
    "f2 = open(\"support.txt\", \"w\")"
   ],
   "metadata": {
    "collapsed": false,
    "pycharm": {
     "name": "#%%\n"
    }
   }
  },
  {
   "cell_type": "markdown",
   "source": [
    "Please specify the names of the columns if they were changed.\n",
    "Please make note that spaces are indicated as \"_\" i.e 'Job_Titiles_Start_Dates' is 'Job Titiles Start Dates'"
   ],
   "metadata": {
    "collapsed": false
   }
  },
  {
   "cell_type": "code",
   "execution_count": null,
   "outputs": [],
   "source": [
    "for index, row in tilda1.iterrows():\n",
    "    company = row[\"Org_Name\"] # tilda 1 company name\n",
    "    t2_row = tilda2.iloc[index]\n",
    "\n",
    "    np = int(row[\"of_placements\"]) # tilda 1 number of placements\n",
    "    roles = row[\"Job_Titiles_Start_Dates\"] # tilda 1 job titles\n",
    "    npeople = t2_row[\"How_many_employed\"] # tilda 2 number of people employed at company\n",
    "    website = row[\"Website\"] # tilda 1 company website\n",
    "    description = row[\"Business_description\"] # tilda 1 buisness description\n",
    "    wfchanges = t2_row[\"Workforce_changes\"] # tilda 2 workforce changes\n",
    "    funding = t2_row[\"KS_funding_alternative\"] # tilda 2 KS funding alternative\n",
    "    trade_unions = t2_row[\"Trade_Unions\"] # tilda 2 trade unions \n",
    "    number = index+1\n",
    "    similar_roles = t2_row[\"Recruitment_changes_past_6_months\"] # tilda 2 recruitment activity in past 6 months\n",
    "    support = row[\"Employability_Support\"] # tilda 1 emploability supoort description\n",
    "    template = f\"\"\"\n",
    "    {number}) {company} - {np} positions;\n",
    "\n",
    "    {roles}\n",
    "\n",
    "    {company} has {npeople}, thus it is sufficient to manage {np} positions;\n",
    "\n",
    "    Website: {website}\n",
    "\n",
    "    Short description: {description}\n",
    "\n",
    "    The changes to the workforce in the last 6 months: {wfchanges}\n",
    "    What funding source would be used if Kickstart Scheme was unavailable: It would not be possible to fund these  roles without Kickstart, unless {funding};\n",
    "    What recruitment was completed/started/paused in the last 6 months; how similar are/were the vacancies to the job placements: {similar_roles};\n",
    "    Have you engaged any relevant trade unions; if so, what advice they’ve given you: {trade_unions}.\n",
    "\n",
    "    \"\"\"\n",
    "    f1.write(template)\n",
    "    f2.write(f\"{company}: {support}\\nAdditional employability support will be provided by Over-Deliver Ltd, a career consultancy firm.\\n\\n\\n\")\n",
    "f1.close()\n",
    "f2.close()"
   ],
   "metadata": {
    "collapsed": false,
    "pycharm": {
     "name": "#%%\n"
    }
   }
  },
  {
   "cell_type": "markdown",
   "source": [
    "After you run each cell go to main menu there you can find 2 txt files that you can download\n",
    "main_info.txt\n",
    "support.txt\n",
    "\n"
   ],
   "metadata": {
    "collapsed": false
   }
  }
 ],
 "metadata": {
  "kernelspec": {
   "display_name": "Python 3",
   "language": "python",
   "name": "python3"
  },
  "language_info": {
   "codemirror_mode": {
    "name": "ipython",
    "version": 2
   },
   "file_extension": ".py",
   "mimetype": "text/x-python",
   "name": "python",
   "nbconvert_exporter": "python",
   "pygments_lexer": "ipython2",
   "version": "2.7.6"
  }
 },
 "nbformat": 4,
 "nbformat_minor": 0
}